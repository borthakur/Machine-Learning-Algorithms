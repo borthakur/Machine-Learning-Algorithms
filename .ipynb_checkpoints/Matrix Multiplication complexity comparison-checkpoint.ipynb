{
 "cells": [
  {
   "cell_type": "code",
   "execution_count": 1,
   "id": "935c225e",
   "metadata": {},
   "outputs": [],
   "source": [
    "import numpy as np\n",
    "import timeit\n",
    "import matplotlib.pyplot as plt"
   ]
  },
  {
   "cell_type": "code",
   "execution_count": null,
   "id": "ede90da7",
   "metadata": {},
   "outputs": [],
   "source": []
  },
  {
   "cell_type": "code",
   "execution_count": 2,
   "id": "8e15e04a",
   "metadata": {},
   "outputs": [],
   "source": [
    "def matrix_multiply(A,B,n):\n",
    "    ans = []\n",
    "    for row in range(0,n):\n",
    "        row_vals = []\n",
    "        for col in range(0,n):\n",
    "            temp = 0\n",
    "            for i in range(0,n):\n",
    "                temp += A[row][i]*B[i][col]\n",
    "            row_vals += [temp]\n",
    "        ans += [row_vals]\n",
    "    return ans"
   ]
  },
  {
   "cell_type": "code",
   "execution_count": null,
   "id": "5f138e5e",
   "metadata": {},
   "outputs": [],
   "source": []
  },
  {
   "cell_type": "code",
   "execution_count": 3,
   "id": "152f4bdf",
   "metadata": {},
   "outputs": [
    {
     "name": "stdout",
     "output_type": "stream",
     "text": [
      "5\n",
      "\n",
      "[[4 1 5 7 6]\n",
      " [1 2 9 3 1]\n",
      " [2 5 8 4 1]\n",
      " [3 6 9 7 4]\n",
      " [4 2 9 9 7]]\n",
      "\n",
      "[[8 7 6 4 9]\n",
      " [6 4 8 5 8]\n",
      " [6 1 9 7 4]\n",
      " [2 4 5 7 5]\n",
      " [0 5 4 5 7]]\n"
     ]
    }
   ],
   "source": [
    "n = 5\n",
    "A = np.random.randint(10,size=(n,n))\n",
    "B = np.random.randint(10,size=(n,n))\n",
    "print(n)\n",
    "print()\n",
    "print(A)\n",
    "print()\n",
    "print(B)"
   ]
  },
  {
   "cell_type": "code",
   "execution_count": null,
   "id": "206fff78",
   "metadata": {},
   "outputs": [],
   "source": []
  },
  {
   "cell_type": "code",
   "execution_count": 4,
   "id": "b365c2e6",
   "metadata": {},
   "outputs": [
    {
     "name": "stdout",
     "output_type": "stream",
     "text": [
      "Time:  0.0001643999999996204\n",
      "[[82, 95, 136, 135, 141], [80, 41, 122, 103, 83], [102, 63, 148, 122, 117], [128, 102, 198, 174, 174], [116, 116, 194, 187, 182]]\n"
     ]
    }
   ],
   "source": [
    "start = timeit.default_timer()\n",
    "loop_matrix_multiply = matrix_multiply(A,B,n)\n",
    "stop = timeit.default_timer()\n",
    "print('Time: ', stop - start) \n",
    "print(loop_matrix_multiply)"
   ]
  },
  {
   "cell_type": "code",
   "execution_count": 5,
   "id": "b7a0c492",
   "metadata": {},
   "outputs": [
    {
     "name": "stdout",
     "output_type": "stream",
     "text": [
      "Time:  7.58000000002923e-05\n",
      "[[ 82  95 136 135 141]\n",
      " [ 80  41 122 103  83]\n",
      " [102  63 148 122 117]\n",
      " [128 102 198 174 174]\n",
      " [116 116 194 187 182]]\n"
     ]
    }
   ],
   "source": [
    "start = timeit.default_timer()\n",
    "numpy_matrix_multiply = np.matmul(A,B)\n",
    "stop = timeit.default_timer()\n",
    "print('Time: ', stop - start) \n",
    "print(numpy_matrix_multiply)"
   ]
  },
  {
   "cell_type": "code",
   "execution_count": null,
   "id": "0fbb8dcd",
   "metadata": {},
   "outputs": [],
   "source": []
  },
  {
   "cell_type": "code",
   "execution_count": 6,
   "id": "1d52e9d0",
   "metadata": {},
   "outputs": [
    {
     "data": {
      "text/plain": [
       "array([[ True,  True,  True,  True,  True],\n",
       "       [ True,  True,  True,  True,  True],\n",
       "       [ True,  True,  True,  True,  True],\n",
       "       [ True,  True,  True,  True,  True],\n",
       "       [ True,  True,  True,  True,  True]])"
      ]
     },
     "execution_count": 6,
     "metadata": {},
     "output_type": "execute_result"
    }
   ],
   "source": [
    "loop_matrix_multiply == numpy_matrix_multiply"
   ]
  },
  {
   "cell_type": "code",
   "execution_count": null,
   "id": "cbbd1d30",
   "metadata": {},
   "outputs": [],
   "source": []
  },
  {
   "cell_type": "code",
   "execution_count": 7,
   "id": "22c4d853",
   "metadata": {},
   "outputs": [],
   "source": [
    "simple_multiplication_times = []\n",
    "numpy_multiplication_times = []\n",
    "sizes = []"
   ]
  },
  {
   "cell_type": "code",
   "execution_count": 8,
   "id": "9add8f2c",
   "metadata": {},
   "outputs": [],
   "source": [
    "for size in range(1,101):\n",
    "    n = size\n",
    "    A = np.random.randint(10,size=(n,n))\n",
    "    B = np.random.randint(10,size=(n,n))\n",
    "    start = timeit.default_timer()\n",
    "    loop_matrix_multiply = matrix_multiply(A,B,n)\n",
    "    stop = timeit.default_timer()\n",
    "    simple_multiplication_times += [stop - start]\n",
    "    start = timeit.default_timer()\n",
    "    numpy_matrix_multiply = np.matmul(A,B)\n",
    "    stop = timeit.default_timer()\n",
    "    numpy_multiplication_times += [stop - start]\n",
    "    sizes += [size]"
   ]
  },
  {
   "cell_type": "code",
   "execution_count": null,
   "id": "413c4df4",
   "metadata": {},
   "outputs": [],
   "source": []
  },
  {
   "cell_type": "code",
   "execution_count": 9,
   "id": "e68f3635",
   "metadata": {},
   "outputs": [
    {
     "data": {
      "text/plain": [
       "<matplotlib.legend.Legend at 0x278fbb88280>"
      ]
     },
     "execution_count": 9,
     "metadata": {},
     "output_type": "execute_result"
    },
    {
     "data": {
      "image/png": "[encoded data removed]",
      "text/plain": [
       "<Figure size 432x288 with 1 Axes>"
      ]
     },
     "metadata": {
      "needs_background": "light"
     },
     "output_type": "display_data"
    }
   ],
   "source": [
    "plt.plot(sizes, simple_multiplication_times, label = \"Using loops\")\n",
    "plt.plot(sizes, numpy_multiplication_times, label = \"Using numpy\")\n",
    "plt. xlabel('Size of matrix (=N)')\n",
    "plt.ylabel('Time taken (sec)')\n",
    "plt.title('Time taken for Matrix Multiplication of Matrices of Sizes N*N')\n",
    "plt.legend()"
   ]
  },
  {
   "cell_type": "code",
   "execution_count": 10,
   "id": "7a8dd2cc",
   "metadata": {},
   "outputs": [
    {
     "data": {
      "text/plain": [
       "<matplotlib.legend.Legend at 0x278fbcf2640>"
      ]
     },
     "execution_count": 10,
     "metadata": {},
     "output_type": "execute_result"
    },
    {
     "data": {
      "image/png": "[encoded data removed]",
      "text/plain": [
       "<Figure size 432x288 with 1 Axes>"
      ]
     },
     "metadata": {
      "needs_background": "light"
     },
     "output_type": "display_data"
    }
   ],
   "source": [
    "plt.yscale(\"log\")\n",
    "plt.plot(sizes, simple_multiplication_times, label = \"Using loops\")\n",
    "plt.plot(sizes, numpy_multiplication_times, label = \"Using numpy\")\n",
    "plt. xlabel('Size of matrix (=N)')\n",
    "plt.ylabel('Time taken (sec)')\n",
    "plt.title('Time taken for Matrix Multiplication of Matrices of Sizes N*N (Log scale)')\n",
    "plt.legend()"
   ]
  },
  {
   "cell_type": "code",
   "execution_count": null,
   "id": "4530402d",
   "metadata": {},
   "outputs": [],
   "source": []
  }
 ],
 "metadata": {
  "kernelspec": {
   "display_name": "Python 3",
   "language": "python",
   "name": "python3"
  },
  "language_info": {
   "codemirror_mode": {
    "name": "ipython",
    "version": 3
   },
   "file_extension": ".py",
   "mimetype": "text/x-python",
   "name": "python",
   "nbconvert_exporter": "python",
   "pygments_lexer": "ipython3",
   "version": "3.8.7rc1"
  }
 },
 "nbformat": 4,
 "nbformat_minor": 5
}
